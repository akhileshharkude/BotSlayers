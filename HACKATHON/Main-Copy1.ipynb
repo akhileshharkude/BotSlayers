{
 "cells": [
  {
   "cell_type": "code",
   "execution_count": 1,
   "id": "af0dc72c",
   "metadata": {},
   "outputs": [],
   "source": [
    "import numpy as np\n",
    "import pandas as pd"
   ]
  },
  {
   "cell_type": "code",
   "execution_count": 2,
   "id": "f12a9e38",
   "metadata": {},
   "outputs": [],
   "source": [
    "insta_data = pd.read_csv(\"INSTA.csv\")\n",
    "td = pd.read_csv(\"cov.csv\" )"
   ]
  },
  {
   "cell_type": "code",
   "execution_count": 3,
   "id": "285625b3",
   "metadata": {},
   "outputs": [],
   "source": [
    "td = td.drop(td.columns[0], axis=1)"
   ]
  },
  {
   "cell_type": "code",
   "execution_count": 4,
   "id": "5d2049f4",
   "metadata": {
    "scrolled": false
   },
   "outputs": [
    {
     "data": {
      "text/plain": [
       "joined                  0\n",
       "username                0\n",
       "name                    4\n",
       "category            17961\n",
       "score                   2\n",
       "tweets                  0\n",
       "following               0\n",
       "followers               0\n",
       "likes                   0\n",
       "user_id             11095\n",
       "date_added          11095\n",
       "status              11095\n",
       "verified                0\n",
       "geo_enabled             0\n",
       "suspended               0\n",
       "profile_location    24862\n",
       "listed_count            0\n",
       "Unnamed: 17         28982\n",
       "dtype: int64"
      ]
     },
     "execution_count": 4,
     "metadata": {},
     "output_type": "execute_result"
    }
   ],
   "source": [
    "td.isnull().sum()"
   ]
  },
  {
   "cell_type": "code",
   "execution_count": 5,
   "id": "e27abcbc",
   "metadata": {},
   "outputs": [],
   "source": [
    "td.drop(td[td['score'] > 1].index, inplace = True)"
   ]
  },
  {
   "cell_type": "code",
   "execution_count": 6,
   "id": "fb0c5abd",
   "metadata": {},
   "outputs": [
    {
     "data": {
      "text/html": [
       "<div>\n",
       "<style scoped>\n",
       "    .dataframe tbody tr th:only-of-type {\n",
       "        vertical-align: middle;\n",
       "    }\n",
       "\n",
       "    .dataframe tbody tr th {\n",
       "        vertical-align: top;\n",
       "    }\n",
       "\n",
       "    .dataframe thead th {\n",
       "        text-align: right;\n",
       "    }\n",
       "</style>\n",
       "<table border=\"1\" class=\"dataframe\">\n",
       "  <thead>\n",
       "    <tr style=\"text-align: right;\">\n",
       "      <th></th>\n",
       "      <th>joined</th>\n",
       "      <th>username</th>\n",
       "      <th>name</th>\n",
       "      <th>category</th>\n",
       "      <th>score</th>\n",
       "      <th>tweets</th>\n",
       "      <th>following</th>\n",
       "      <th>followers</th>\n",
       "      <th>likes</th>\n",
       "      <th>user_id</th>\n",
       "      <th>date_added</th>\n",
       "      <th>status</th>\n",
       "      <th>verified</th>\n",
       "      <th>geo_enabled</th>\n",
       "      <th>suspended</th>\n",
       "      <th>profile_location</th>\n",
       "      <th>listed_count</th>\n",
       "      <th>Unnamed: 17</th>\n",
       "    </tr>\n",
       "  </thead>\n",
       "  <tbody>\n",
       "    <tr>\n",
       "      <th>0</th>\n",
       "      <td>2019-10-01 00:00:00</td>\n",
       "      <td>JoLynnBlake13</td>\n",
       "      <td>The hammer of Truth, Justice &amp; the American Way!</td>\n",
       "      <td>Trollbot</td>\n",
       "      <td>0.81</td>\n",
       "      <td>24113</td>\n",
       "      <td>7514</td>\n",
       "      <td>7334</td>\n",
       "      <td>10</td>\n",
       "      <td>NaN</td>\n",
       "      <td>NaN</td>\n",
       "      <td>NaN</td>\n",
       "      <td>False</td>\n",
       "      <td>False</td>\n",
       "      <td>True</td>\n",
       "      <td>NaN</td>\n",
       "      <td>0</td>\n",
       "      <td>NaN</td>\n",
       "    </tr>\n",
       "    <tr>\n",
       "      <th>1</th>\n",
       "      <td>2018-09-01 00:00:00</td>\n",
       "      <td>BreLa1212</td>\n",
       "      <td>Bre-la</td>\n",
       "      <td>Trollbot</td>\n",
       "      <td>0.80</td>\n",
       "      <td>7145</td>\n",
       "      <td>126</td>\n",
       "      <td>54</td>\n",
       "      <td>9749</td>\n",
       "      <td>NaN</td>\n",
       "      <td>NaN</td>\n",
       "      <td>NaN</td>\n",
       "      <td>False</td>\n",
       "      <td>False</td>\n",
       "      <td>False</td>\n",
       "      <td>Hawaii, USA</td>\n",
       "      <td>5</td>\n",
       "      <td>NaN</td>\n",
       "    </tr>\n",
       "    <tr>\n",
       "      <th>2</th>\n",
       "      <td>2015-02-01 00:00:00</td>\n",
       "      <td>NotMattrellen</td>\n",
       "      <td>Probably Not Mattrellen</td>\n",
       "      <td>Trollbot</td>\n",
       "      <td>0.87</td>\n",
       "      <td>667</td>\n",
       "      <td>113</td>\n",
       "      <td>65</td>\n",
       "      <td>2214</td>\n",
       "      <td>NaN</td>\n",
       "      <td>NaN</td>\n",
       "      <td>NaN</td>\n",
       "      <td>False</td>\n",
       "      <td>False</td>\n",
       "      <td>False</td>\n",
       "      <td>NaN</td>\n",
       "      <td>0</td>\n",
       "      <td>NaN</td>\n",
       "    </tr>\n",
       "    <tr>\n",
       "      <th>3</th>\n",
       "      <td>2018-05-01 00:00:00</td>\n",
       "      <td>lizthemomager</td>\n",
       "      <td>Aiabeth</td>\n",
       "      <td>Trollbot</td>\n",
       "      <td>0.77</td>\n",
       "      <td>2657</td>\n",
       "      <td>739</td>\n",
       "      <td>448</td>\n",
       "      <td>743</td>\n",
       "      <td>NaN</td>\n",
       "      <td>NaN</td>\n",
       "      <td>NaN</td>\n",
       "      <td>False</td>\n",
       "      <td>False</td>\n",
       "      <td>True</td>\n",
       "      <td>NaN</td>\n",
       "      <td>0</td>\n",
       "      <td>NaN</td>\n",
       "    </tr>\n",
       "    <tr>\n",
       "      <th>4</th>\n",
       "      <td>2011-03-01 00:00:00</td>\n",
       "      <td>ipmedic</td>\n",
       "      <td>Jeff Long</td>\n",
       "      <td>Trollbot</td>\n",
       "      <td>0.80</td>\n",
       "      <td>2795</td>\n",
       "      <td>4734</td>\n",
       "      <td>3540</td>\n",
       "      <td>10111</td>\n",
       "      <td>NaN</td>\n",
       "      <td>NaN</td>\n",
       "      <td>NaN</td>\n",
       "      <td>False</td>\n",
       "      <td>True</td>\n",
       "      <td>False</td>\n",
       "      <td>NaN</td>\n",
       "      <td>4</td>\n",
       "      <td>NaN</td>\n",
       "    </tr>\n",
       "    <tr>\n",
       "      <th>...</th>\n",
       "      <td>...</td>\n",
       "      <td>...</td>\n",
       "      <td>...</td>\n",
       "      <td>...</td>\n",
       "      <td>...</td>\n",
       "      <td>...</td>\n",
       "      <td>...</td>\n",
       "      <td>...</td>\n",
       "      <td>...</td>\n",
       "      <td>...</td>\n",
       "      <td>...</td>\n",
       "      <td>...</td>\n",
       "      <td>...</td>\n",
       "      <td>...</td>\n",
       "      <td>...</td>\n",
       "      <td>...</td>\n",
       "      <td>...</td>\n",
       "      <td>...</td>\n",
       "    </tr>\n",
       "    <tr>\n",
       "      <th>30970</th>\n",
       "      <td>2009-05-11 00:00:00</td>\n",
       "      <td>@DaniloJTR</td>\n",
       "      <td>Danilo Torrealba</td>\n",
       "      <td>NaN</td>\n",
       "      <td>0.23</td>\n",
       "      <td>3542</td>\n",
       "      <td>1562</td>\n",
       "      <td>498</td>\n",
       "      <td>19604</td>\n",
       "      <td>8.773052e+07</td>\n",
       "      <td>2020-09-11 00:00:00</td>\n",
       "      <td>Active</td>\n",
       "      <td>none</td>\n",
       "      <td>none</td>\n",
       "      <td>False</td>\n",
       "      <td>{'id': '043383f8b2b79918', 'url': 'https://api...</td>\n",
       "      <td>0</td>\n",
       "      <td>NaN</td>\n",
       "    </tr>\n",
       "    <tr>\n",
       "      <th>30971</th>\n",
       "      <td>2019-03-11 00:00:00</td>\n",
       "      <td>@cxxks___</td>\n",
       "      <td>Cooks Stan Account ?</td>\n",
       "      <td>NaN</td>\n",
       "      <td>0.03</td>\n",
       "      <td>72501</td>\n",
       "      <td>1490</td>\n",
       "      <td>1817</td>\n",
       "      <td>68878</td>\n",
       "      <td>1.080727e+18</td>\n",
       "      <td>2020-09-11 00:00:00</td>\n",
       "      <td>Active</td>\n",
       "      <td>none</td>\n",
       "      <td>True</td>\n",
       "      <td>False</td>\n",
       "      <td>none</td>\n",
       "      <td>2</td>\n",
       "      <td>NaN</td>\n",
       "    </tr>\n",
       "    <tr>\n",
       "      <th>30972</th>\n",
       "      <td>11-29-2020</td>\n",
       "      <td>@karnjirwala</td>\n",
       "      <td>Karnjirwala</td>\n",
       "      <td>NaN</td>\n",
       "      <td>0.14</td>\n",
       "      <td>39</td>\n",
       "      <td>4</td>\n",
       "      <td>0</td>\n",
       "      <td>6</td>\n",
       "      <td>1.321931e+18</td>\n",
       "      <td>2020-09-11 00:00:00</td>\n",
       "      <td>Active</td>\n",
       "      <td>none</td>\n",
       "      <td>none</td>\n",
       "      <td>False</td>\n",
       "      <td>none</td>\n",
       "      <td>0</td>\n",
       "      <td>NaN</td>\n",
       "    </tr>\n",
       "    <tr>\n",
       "      <th>30973</th>\n",
       "      <td>2009-11-11 00:00:00</td>\n",
       "      <td>@Beyond_I_Do</td>\n",
       "      <td>Rev. Meghan Gurley - Creative Clergy</td>\n",
       "      <td>NaN</td>\n",
       "      <td>0.18</td>\n",
       "      <td>85513</td>\n",
       "      <td>889</td>\n",
       "      <td>2245</td>\n",
       "      <td>8712</td>\n",
       "      <td>3.047285e+07</td>\n",
       "      <td>2020-09-11 00:00:00</td>\n",
       "      <td>Active</td>\n",
       "      <td>none</td>\n",
       "      <td>none</td>\n",
       "      <td>False</td>\n",
       "      <td>none</td>\n",
       "      <td>66</td>\n",
       "      <td>NaN</td>\n",
       "    </tr>\n",
       "    <tr>\n",
       "      <th>30974</th>\n",
       "      <td>11-22-2020</td>\n",
       "      <td>@Nirvana09876</td>\n",
       "      <td>Nirvana</td>\n",
       "      <td>NaN</td>\n",
       "      <td>0.15</td>\n",
       "      <td>15113</td>\n",
       "      <td>539</td>\n",
       "      <td>610</td>\n",
       "      <td>35056</td>\n",
       "      <td>1.297171e+18</td>\n",
       "      <td>2020-09-11 00:00:00</td>\n",
       "      <td>Active</td>\n",
       "      <td>none</td>\n",
       "      <td>none</td>\n",
       "      <td>False</td>\n",
       "      <td>none</td>\n",
       "      <td>0</td>\n",
       "      <td>NaN</td>\n",
       "    </tr>\n",
       "  </tbody>\n",
       "</table>\n",
       "<p>26304 rows × 18 columns</p>\n",
       "</div>"
      ],
      "text/plain": [
       "                    joined       username  \\\n",
       "0      2019-10-01 00:00:00  JoLynnBlake13   \n",
       "1      2018-09-01 00:00:00      BreLa1212   \n",
       "2      2015-02-01 00:00:00  NotMattrellen   \n",
       "3      2018-05-01 00:00:00  lizthemomager   \n",
       "4      2011-03-01 00:00:00        ipmedic   \n",
       "...                    ...            ...   \n",
       "30970  2009-05-11 00:00:00     @DaniloJTR   \n",
       "30971  2019-03-11 00:00:00      @cxxks___   \n",
       "30972           11-29-2020   @karnjirwala   \n",
       "30973  2009-11-11 00:00:00   @Beyond_I_Do   \n",
       "30974           11-22-2020  @Nirvana09876   \n",
       "\n",
       "                                                   name  category  score  \\\n",
       "0      The hammer of Truth, Justice & the American Way!  Trollbot   0.81   \n",
       "1                                                Bre-la  Trollbot   0.80   \n",
       "2                               Probably Not Mattrellen  Trollbot   0.87   \n",
       "3                                               Aiabeth  Trollbot   0.77   \n",
       "4                                             Jeff Long  Trollbot   0.80   \n",
       "...                                                 ...       ...    ...   \n",
       "30970                                  Danilo Torrealba       NaN   0.23   \n",
       "30971                              Cooks Stan Account ?       NaN   0.03   \n",
       "30972                                       Karnjirwala       NaN   0.14   \n",
       "30973              Rev. Meghan Gurley - Creative Clergy       NaN   0.18   \n",
       "30974                                           Nirvana       NaN   0.15   \n",
       "\n",
       "       tweets  following  followers  likes       user_id           date_added  \\\n",
       "0       24113       7514       7334     10           NaN                  NaN   \n",
       "1        7145        126         54   9749           NaN                  NaN   \n",
       "2         667        113         65   2214           NaN                  NaN   \n",
       "3        2657        739        448    743           NaN                  NaN   \n",
       "4        2795       4734       3540  10111           NaN                  NaN   \n",
       "...       ...        ...        ...    ...           ...                  ...   \n",
       "30970    3542       1562        498  19604  8.773052e+07  2020-09-11 00:00:00   \n",
       "30971   72501       1490       1817  68878  1.080727e+18  2020-09-11 00:00:00   \n",
       "30972      39          4          0      6  1.321931e+18  2020-09-11 00:00:00   \n",
       "30973   85513        889       2245   8712  3.047285e+07  2020-09-11 00:00:00   \n",
       "30974   15113        539        610  35056  1.297171e+18  2020-09-11 00:00:00   \n",
       "\n",
       "       status verified geo_enabled  suspended  \\\n",
       "0         NaN    False       False       True   \n",
       "1         NaN    False       False      False   \n",
       "2         NaN    False       False      False   \n",
       "3         NaN    False       False       True   \n",
       "4         NaN    False        True      False   \n",
       "...       ...      ...         ...        ...   \n",
       "30970  Active     none        none      False   \n",
       "30971  Active     none        True      False   \n",
       "30972  Active     none        none      False   \n",
       "30973  Active     none        none      False   \n",
       "30974  Active     none        none      False   \n",
       "\n",
       "                                        profile_location listed_count  \\\n",
       "0                                                    NaN            0   \n",
       "1                                            Hawaii, USA            5   \n",
       "2                                                    NaN            0   \n",
       "3                                                    NaN            0   \n",
       "4                                                    NaN            4   \n",
       "...                                                  ...          ...   \n",
       "30970  {'id': '043383f8b2b79918', 'url': 'https://api...            0   \n",
       "30971                                               none            2   \n",
       "30972                                               none            0   \n",
       "30973                                               none           66   \n",
       "30974                                               none            0   \n",
       "\n",
       "       Unnamed: 17  \n",
       "0              NaN  \n",
       "1              NaN  \n",
       "2              NaN  \n",
       "3              NaN  \n",
       "4              NaN  \n",
       "...            ...  \n",
       "30970          NaN  \n",
       "30971          NaN  \n",
       "30972          NaN  \n",
       "30973          NaN  \n",
       "30974          NaN  \n",
       "\n",
       "[26304 rows x 18 columns]"
      ]
     },
     "execution_count": 6,
     "metadata": {},
     "output_type": "execute_result"
    }
   ],
   "source": [
    "td"
   ]
  },
  {
   "cell_type": "code",
   "execution_count": 7,
   "id": "1dac1180",
   "metadata": {},
   "outputs": [
    {
     "data": {
      "text/html": [
       "<div>\n",
       "<style scoped>\n",
       "    .dataframe tbody tr th:only-of-type {\n",
       "        vertical-align: middle;\n",
       "    }\n",
       "\n",
       "    .dataframe tbody tr th {\n",
       "        vertical-align: top;\n",
       "    }\n",
       "\n",
       "    .dataframe thead th {\n",
       "        text-align: right;\n",
       "    }\n",
       "</style>\n",
       "<table border=\"1\" class=\"dataframe\">\n",
       "  <thead>\n",
       "    <tr style=\"text-align: right;\">\n",
       "      <th></th>\n",
       "      <th>joined</th>\n",
       "      <th>username</th>\n",
       "      <th>name</th>\n",
       "      <th>category</th>\n",
       "      <th>score</th>\n",
       "      <th>tweets</th>\n",
       "      <th>following</th>\n",
       "      <th>followers</th>\n",
       "      <th>likes</th>\n",
       "      <th>user_id</th>\n",
       "      <th>date_added</th>\n",
       "      <th>status</th>\n",
       "      <th>verified</th>\n",
       "      <th>geo_enabled</th>\n",
       "      <th>suspended</th>\n",
       "      <th>profile_location</th>\n",
       "      <th>listed_count</th>\n",
       "      <th>Unnamed: 17</th>\n",
       "    </tr>\n",
       "  </thead>\n",
       "  <tbody>\n",
       "    <tr>\n",
       "      <th>11096</th>\n",
       "      <td>2009-04-27 00:00:00</td>\n",
       "      <td>@milsad</td>\n",
       "      <td>MilsaD</td>\n",
       "      <td>Normal</td>\n",
       "      <td>0.17</td>\n",
       "      <td>904</td>\n",
       "      <td>73</td>\n",
       "      <td>22</td>\n",
       "      <td>418</td>\n",
       "      <td>3.578927e+07</td>\n",
       "      <td>07-14-2020</td>\n",
       "      <td>Active</td>\n",
       "      <td>False</td>\n",
       "      <td>True</td>\n",
       "      <td>False</td>\n",
       "      <td>NaN</td>\n",
       "      <td>1</td>\n",
       "      <td>NaN</td>\n",
       "    </tr>\n",
       "    <tr>\n",
       "      <th>11098</th>\n",
       "      <td>2017-07-05 00:00:00</td>\n",
       "      <td>@Kimmi11123</td>\n",
       "      <td>Kimmy Ann</td>\n",
       "      <td>Normal</td>\n",
       "      <td>0.51</td>\n",
       "      <td>1064</td>\n",
       "      <td>237</td>\n",
       "      <td>81</td>\n",
       "      <td>3755</td>\n",
       "      <td>8.826239e+17</td>\n",
       "      <td>07-14-2020</td>\n",
       "      <td>Active</td>\n",
       "      <td>False</td>\n",
       "      <td>False</td>\n",
       "      <td>False</td>\n",
       "      <td>NaN</td>\n",
       "      <td>5</td>\n",
       "      <td>NaN</td>\n",
       "    </tr>\n",
       "    <tr>\n",
       "      <th>11100</th>\n",
       "      <td>2009-06-23 00:00:00</td>\n",
       "      <td>@amyewalter</td>\n",
       "      <td>amy walter</td>\n",
       "      <td>Normal</td>\n",
       "      <td>0.01</td>\n",
       "      <td>15792</td>\n",
       "      <td>1688</td>\n",
       "      <td>166366</td>\n",
       "      <td>16300</td>\n",
       "      <td>5.007351e+07</td>\n",
       "      <td>07-14-2020</td>\n",
       "      <td>Active</td>\n",
       "      <td>True</td>\n",
       "      <td>False</td>\n",
       "      <td>False</td>\n",
       "      <td>NaN</td>\n",
       "      <td>3499</td>\n",
       "      <td>NaN</td>\n",
       "    </tr>\n",
       "    <tr>\n",
       "      <th>11102</th>\n",
       "      <td>2018-08-02 00:00:00</td>\n",
       "      <td>@FernandoBenev15</td>\n",
       "      <td>Fernando Benevides</td>\n",
       "      <td>Normal</td>\n",
       "      <td>0.68</td>\n",
       "      <td>25552</td>\n",
       "      <td>2604</td>\n",
       "      <td>1162</td>\n",
       "      <td>88726</td>\n",
       "      <td>1.025061e+18</td>\n",
       "      <td>07-14-2020</td>\n",
       "      <td>Active</td>\n",
       "      <td>False</td>\n",
       "      <td>False</td>\n",
       "      <td>False</td>\n",
       "      <td>Belo Horizonte, Brazil</td>\n",
       "      <td>0</td>\n",
       "      <td>NaN</td>\n",
       "    </tr>\n",
       "    <tr>\n",
       "      <th>11104</th>\n",
       "      <td>2020-05-22 00:00:00</td>\n",
       "      <td>@Walmart3301</td>\n",
       "      <td>Walmart</td>\n",
       "      <td>Normal</td>\n",
       "      <td>0.23</td>\n",
       "      <td>19</td>\n",
       "      <td>33</td>\n",
       "      <td>7</td>\n",
       "      <td>46</td>\n",
       "      <td>1.263656e+18</td>\n",
       "      <td>07-14-2020</td>\n",
       "      <td>Active</td>\n",
       "      <td>False</td>\n",
       "      <td>False</td>\n",
       "      <td>False</td>\n",
       "      <td>NaN</td>\n",
       "      <td>0</td>\n",
       "      <td>NaN</td>\n",
       "    </tr>\n",
       "    <tr>\n",
       "      <th>...</th>\n",
       "      <td>...</td>\n",
       "      <td>...</td>\n",
       "      <td>...</td>\n",
       "      <td>...</td>\n",
       "      <td>...</td>\n",
       "      <td>...</td>\n",
       "      <td>...</td>\n",
       "      <td>...</td>\n",
       "      <td>...</td>\n",
       "      <td>...</td>\n",
       "      <td>...</td>\n",
       "      <td>...</td>\n",
       "      <td>...</td>\n",
       "      <td>...</td>\n",
       "      <td>...</td>\n",
       "      <td>...</td>\n",
       "      <td>...</td>\n",
       "      <td>...</td>\n",
       "    </tr>\n",
       "    <tr>\n",
       "      <th>16995</th>\n",
       "      <td>2012-07-05 00:00:00</td>\n",
       "      <td>@AlexSnelleman</td>\n",
       "      <td>Alex</td>\n",
       "      <td>Normal</td>\n",
       "      <td>0.13</td>\n",
       "      <td>4099</td>\n",
       "      <td>127</td>\n",
       "      <td>65</td>\n",
       "      <td>380</td>\n",
       "      <td>7.384821e+08</td>\n",
       "      <td>07-27-2020</td>\n",
       "      <td>Active</td>\n",
       "      <td>False</td>\n",
       "      <td>True</td>\n",
       "      <td>False</td>\n",
       "      <td>NaN</td>\n",
       "      <td>1</td>\n",
       "      <td>NaN</td>\n",
       "    </tr>\n",
       "    <tr>\n",
       "      <th>16997</th>\n",
       "      <td>2012-07-19 00:00:00</td>\n",
       "      <td>@VirtanensStuff</td>\n",
       "      <td>hoot</td>\n",
       "      <td>Normal</td>\n",
       "      <td>0.17</td>\n",
       "      <td>11249</td>\n",
       "      <td>198</td>\n",
       "      <td>123</td>\n",
       "      <td>16377</td>\n",
       "      <td>8.904168e+08</td>\n",
       "      <td>07-27-2020</td>\n",
       "      <td>Active</td>\n",
       "      <td>False</td>\n",
       "      <td>True</td>\n",
       "      <td>False</td>\n",
       "      <td>NaN</td>\n",
       "      <td>4</td>\n",
       "      <td>NaN</td>\n",
       "    </tr>\n",
       "    <tr>\n",
       "      <th>16999</th>\n",
       "      <td>2009-07-23 00:00:00</td>\n",
       "      <td>@Joop_nl</td>\n",
       "      <td>Joop</td>\n",
       "      <td>Normal</td>\n",
       "      <td>0.22</td>\n",
       "      <td>60345</td>\n",
       "      <td>1176</td>\n",
       "      <td>25668</td>\n",
       "      <td>466</td>\n",
       "      <td>7.661908e+07</td>\n",
       "      <td>07-27-2020</td>\n",
       "      <td>Active</td>\n",
       "      <td>False</td>\n",
       "      <td>False</td>\n",
       "      <td>False</td>\n",
       "      <td>NaN</td>\n",
       "      <td>771</td>\n",
       "      <td>NaN</td>\n",
       "    </tr>\n",
       "    <tr>\n",
       "      <th>17001</th>\n",
       "      <td>2020-07-27 00:00:00</td>\n",
       "      <td>@Samanth52914076</td>\n",
       "      <td>Samantha Wang</td>\n",
       "      <td>Normal</td>\n",
       "      <td>0.00</td>\n",
       "      <td>4</td>\n",
       "      <td>7</td>\n",
       "      <td>0</td>\n",
       "      <td>3</td>\n",
       "      <td>1.287697e+18</td>\n",
       "      <td>07-27-2020</td>\n",
       "      <td>Active</td>\n",
       "      <td>False</td>\n",
       "      <td>False</td>\n",
       "      <td>False</td>\n",
       "      <td>NaN</td>\n",
       "      <td>0</td>\n",
       "      <td>NaN</td>\n",
       "    </tr>\n",
       "    <tr>\n",
       "      <th>17003</th>\n",
       "      <td>2016-07-25 00:00:00</td>\n",
       "      <td>@RSSlibrary</td>\n",
       "      <td>Starla Hazen</td>\n",
       "      <td>Normal</td>\n",
       "      <td>0.00</td>\n",
       "      <td>791</td>\n",
       "      <td>1266</td>\n",
       "      <td>533</td>\n",
       "      <td>2096</td>\n",
       "      <td>7.030046e+17</td>\n",
       "      <td>07-27-2020</td>\n",
       "      <td>Active</td>\n",
       "      <td>False</td>\n",
       "      <td>False</td>\n",
       "      <td>False</td>\n",
       "      <td>NaN</td>\n",
       "      <td>8</td>\n",
       "      <td>NaN</td>\n",
       "    </tr>\n",
       "  </tbody>\n",
       "</table>\n",
       "<p>1919 rows × 18 columns</p>\n",
       "</div>"
      ],
      "text/plain": [
       "                    joined          username                name category  \\\n",
       "11096  2009-04-27 00:00:00           @milsad              MilsaD   Normal   \n",
       "11098  2017-07-05 00:00:00       @Kimmi11123           Kimmy Ann   Normal   \n",
       "11100  2009-06-23 00:00:00       @amyewalter          amy walter   Normal   \n",
       "11102  2018-08-02 00:00:00  @FernandoBenev15  Fernando Benevides   Normal   \n",
       "11104  2020-05-22 00:00:00      @Walmart3301             Walmart   Normal   \n",
       "...                    ...               ...                 ...      ...   \n",
       "16995  2012-07-05 00:00:00    @AlexSnelleman                Alex   Normal   \n",
       "16997  2012-07-19 00:00:00   @VirtanensStuff                hoot   Normal   \n",
       "16999  2009-07-23 00:00:00          @Joop_nl                Joop   Normal   \n",
       "17001  2020-07-27 00:00:00  @Samanth52914076       Samantha Wang   Normal   \n",
       "17003  2016-07-25 00:00:00       @RSSlibrary        Starla Hazen   Normal   \n",
       "\n",
       "       score  tweets  following  followers  likes       user_id  date_added  \\\n",
       "11096   0.17     904         73         22    418  3.578927e+07  07-14-2020   \n",
       "11098   0.51    1064        237         81   3755  8.826239e+17  07-14-2020   \n",
       "11100   0.01   15792       1688     166366  16300  5.007351e+07  07-14-2020   \n",
       "11102   0.68   25552       2604       1162  88726  1.025061e+18  07-14-2020   \n",
       "11104   0.23      19         33          7     46  1.263656e+18  07-14-2020   \n",
       "...      ...     ...        ...        ...    ...           ...         ...   \n",
       "16995   0.13    4099        127         65    380  7.384821e+08  07-27-2020   \n",
       "16997   0.17   11249        198        123  16377  8.904168e+08  07-27-2020   \n",
       "16999   0.22   60345       1176      25668    466  7.661908e+07  07-27-2020   \n",
       "17001   0.00       4          7          0      3  1.287697e+18  07-27-2020   \n",
       "17003   0.00     791       1266        533   2096  7.030046e+17  07-27-2020   \n",
       "\n",
       "       status verified geo_enabled  suspended        profile_location  \\\n",
       "11096  Active    False        True      False                     NaN   \n",
       "11098  Active    False       False      False                     NaN   \n",
       "11100  Active     True       False      False                     NaN   \n",
       "11102  Active    False       False      False  Belo Horizonte, Brazil   \n",
       "11104  Active    False       False      False                     NaN   \n",
       "...       ...      ...         ...        ...                     ...   \n",
       "16995  Active    False        True      False                     NaN   \n",
       "16997  Active    False        True      False                     NaN   \n",
       "16999  Active    False       False      False                     NaN   \n",
       "17001  Active    False       False      False                     NaN   \n",
       "17003  Active    False       False      False                     NaN   \n",
       "\n",
       "      listed_count  Unnamed: 17  \n",
       "11096            1          NaN  \n",
       "11098            5          NaN  \n",
       "11100         3499          NaN  \n",
       "11102            0          NaN  \n",
       "11104            0          NaN  \n",
       "...            ...          ...  \n",
       "16995            1          NaN  \n",
       "16997            4          NaN  \n",
       "16999          771          NaN  \n",
       "17001            0          NaN  \n",
       "17003            8          NaN  \n",
       "\n",
       "[1919 rows x 18 columns]"
      ]
     },
     "execution_count": 7,
     "metadata": {},
     "output_type": "execute_result"
    }
   ],
   "source": [
    "td.loc[td['category'] == \"Normal\"]"
   ]
  },
  {
   "cell_type": "code",
   "execution_count": 8,
   "id": "08fd9577",
   "metadata": {},
   "outputs": [],
   "source": [
    "td.loc[td[\"score\"] < 0.50, \"category\"] = \"Normal\""
   ]
  },
  {
   "cell_type": "code",
   "execution_count": 9,
   "id": "532110a0",
   "metadata": {},
   "outputs": [],
   "source": [
    "td.dropna(subset = ['category'], inplace= True)"
   ]
  },
  {
   "cell_type": "code",
   "execution_count": 10,
   "id": "0fcba217",
   "metadata": {},
   "outputs": [],
   "source": [
    "td.loc[td[\"category\"] == \"Trollbot\", \"category\"] = 1\n",
    "td.loc[td[\"category\"] == \"Normal\", \"category\"] = 0\n",
    "#td.loc[td[\"verified\"] == \"False\", \"verified\"] = 0\n",
    "#td.loc[td[\"verified\"] == \"True\", \"verified\"] = 1\n",
    "#td.loc[td[\"geo_enabled\"] == \"False\", \"geo_enabled\"] = 0\n",
    "#td.loc[td[\"geo_enabled\"] == \"True\", \"geo_enabled\"] = 1\n",
    "#td.loc[td[\"suspended\"] == False, \"suspended\"] = 0\n",
    "#td.loc[td[\"suspended\"] == True, \"suspended\"] = 1"
   ]
  },
  {
   "cell_type": "markdown",
   "id": "75f9be2a",
   "metadata": {},
   "source": [
    "# Logistic Regression"
   ]
  },
  {
   "cell_type": "code",
   "execution_count": 11,
   "id": "17ac5e1d",
   "metadata": {},
   "outputs": [],
   "source": [
    "X = td.drop(columns=[\"score\",\"joined\",\"username\",\"name\",\"category\",\"user_id\",\"date_added\",\"status\",\"profile_location\",\"listed_count\",\"suspended\",\"geo_enabled\",\"verified\",\"Unnamed: 17\"],axis=1)\n",
    "y = td[\"category\"]"
   ]
  },
  {
   "cell_type": "code",
   "execution_count": 12,
   "id": "1b0c3d98",
   "metadata": {},
   "outputs": [
    {
     "data": {
      "text/html": [
       "<div>\n",
       "<style scoped>\n",
       "    .dataframe tbody tr th:only-of-type {\n",
       "        vertical-align: middle;\n",
       "    }\n",
       "\n",
       "    .dataframe tbody tr th {\n",
       "        vertical-align: top;\n",
       "    }\n",
       "\n",
       "    .dataframe thead th {\n",
       "        text-align: right;\n",
       "    }\n",
       "</style>\n",
       "<table border=\"1\" class=\"dataframe\">\n",
       "  <thead>\n",
       "    <tr style=\"text-align: right;\">\n",
       "      <th></th>\n",
       "      <th>tweets</th>\n",
       "      <th>following</th>\n",
       "      <th>followers</th>\n",
       "      <th>likes</th>\n",
       "    </tr>\n",
       "  </thead>\n",
       "  <tbody>\n",
       "    <tr>\n",
       "      <th>0</th>\n",
       "      <td>24113</td>\n",
       "      <td>7514</td>\n",
       "      <td>7334</td>\n",
       "      <td>10</td>\n",
       "    </tr>\n",
       "    <tr>\n",
       "      <th>1</th>\n",
       "      <td>7145</td>\n",
       "      <td>126</td>\n",
       "      <td>54</td>\n",
       "      <td>9749</td>\n",
       "    </tr>\n",
       "    <tr>\n",
       "      <th>2</th>\n",
       "      <td>667</td>\n",
       "      <td>113</td>\n",
       "      <td>65</td>\n",
       "      <td>2214</td>\n",
       "    </tr>\n",
       "    <tr>\n",
       "      <th>3</th>\n",
       "      <td>2657</td>\n",
       "      <td>739</td>\n",
       "      <td>448</td>\n",
       "      <td>743</td>\n",
       "    </tr>\n",
       "    <tr>\n",
       "      <th>4</th>\n",
       "      <td>2795</td>\n",
       "      <td>4734</td>\n",
       "      <td>3540</td>\n",
       "      <td>10111</td>\n",
       "    </tr>\n",
       "  </tbody>\n",
       "</table>\n",
       "</div>"
      ],
      "text/plain": [
       "   tweets  following  followers  likes\n",
       "0   24113       7514       7334     10\n",
       "1    7145        126         54   9749\n",
       "2     667        113         65   2214\n",
       "3    2657        739        448    743\n",
       "4    2795       4734       3540  10111"
      ]
     },
     "execution_count": 12,
     "metadata": {},
     "output_type": "execute_result"
    }
   ],
   "source": [
    "y = y.astype('int') \n",
    "X.head()"
   ]
  },
  {
   "cell_type": "code",
   "execution_count": 13,
   "id": "4aa26dce",
   "metadata": {},
   "outputs": [],
   "source": [
    "from sklearn.model_selection import train_test_split"
   ]
  },
  {
   "cell_type": "code",
   "execution_count": 14,
   "id": "bfb8cc42",
   "metadata": {},
   "outputs": [],
   "source": [
    "X_train, X_test, y_train, y_test = train_test_split(X,y,test_size=0.30,random_state=4)"
   ]
  },
  {
   "cell_type": "code",
   "execution_count": 15,
   "id": "d8ea3343",
   "metadata": {},
   "outputs": [],
   "source": [
    "from sklearn.preprocessing import StandardScaler"
   ]
  },
  {
   "cell_type": "code",
   "execution_count": 16,
   "id": "4c9c896f",
   "metadata": {},
   "outputs": [],
   "source": [
    "sc = StandardScaler()\n",
    "X_train = sc.fit_transform(X_train)\n",
    "X_test = sc.transform(X_test)"
   ]
  },
  {
   "cell_type": "code",
   "execution_count": 17,
   "id": "628f75bb",
   "metadata": {},
   "outputs": [],
   "source": [
    "from sklearn.linear_model import LogisticRegression"
   ]
  },
  {
   "cell_type": "code",
   "execution_count": 18,
   "id": "94f7f7d1",
   "metadata": {},
   "outputs": [],
   "source": [
    "logmodel = LogisticRegression(random_state=4)"
   ]
  },
  {
   "cell_type": "code",
   "execution_count": 19,
   "id": "c90497d1",
   "metadata": {},
   "outputs": [
    {
     "data": {
      "text/plain": [
       "LogisticRegression(random_state=4)"
      ]
     },
     "execution_count": 19,
     "metadata": {},
     "output_type": "execute_result"
    }
   ],
   "source": [
    "logmodel.fit(X_train, y_train)"
   ]
  },
  {
   "cell_type": "code",
   "execution_count": 20,
   "id": "bcdcdf1e",
   "metadata": {},
   "outputs": [],
   "source": [
    "predictions = logmodel.predict(X_test)"
   ]
  },
  {
   "cell_type": "code",
   "execution_count": 21,
   "id": "dbfec54c",
   "metadata": {},
   "outputs": [],
   "source": [
    "from sklearn.metrics import classification_report"
   ]
  },
  {
   "cell_type": "code",
   "execution_count": 22,
   "id": "11e46306",
   "metadata": {},
   "outputs": [
    {
     "data": {
      "text/plain": [
       "'              precision    recall  f1-score   support\\n\\n           0       0.61      1.00      0.76      4726\\n           1       0.70      0.01      0.01      3057\\n\\n    accuracy                           0.61      7783\\n   macro avg       0.66      0.50      0.38      7783\\nweighted avg       0.65      0.61      0.46      7783\\n'"
      ]
     },
     "execution_count": 22,
     "metadata": {},
     "output_type": "execute_result"
    }
   ],
   "source": [
    "classification_report(y_test,predictions)"
   ]
  },
  {
   "cell_type": "code",
   "execution_count": 23,
   "id": "c48be89b",
   "metadata": {},
   "outputs": [],
   "source": [
    "from sklearn.metrics import confusion_matrix"
   ]
  },
  {
   "cell_type": "code",
   "execution_count": 24,
   "id": "0ae342ec",
   "metadata": {},
   "outputs": [
    {
     "data": {
      "text/plain": [
       "array([[4718,    8],\n",
       "       [3038,   19]], dtype=int64)"
      ]
     },
     "execution_count": 24,
     "metadata": {},
     "output_type": "execute_result"
    }
   ],
   "source": [
    "confusion_matrix(y_test,predictions)"
   ]
  },
  {
   "cell_type": "code",
   "execution_count": 25,
   "id": "2cd3ff29",
   "metadata": {},
   "outputs": [],
   "source": [
    "from sklearn.metrics import accuracy_score"
   ]
  },
  {
   "cell_type": "code",
   "execution_count": 26,
   "id": "63741bdb",
   "metadata": {},
   "outputs": [
    {
     "data": {
      "text/plain": [
       "0.6086342027495825"
      ]
     },
     "execution_count": 26,
     "metadata": {},
     "output_type": "execute_result"
    }
   ],
   "source": [
    "accuracy_score(y_test,predictions)"
   ]
  },
  {
   "cell_type": "code",
   "execution_count": 27,
   "id": "9c20677a",
   "metadata": {},
   "outputs": [
    {
     "data": {
      "text/plain": [
       "array([0])"
      ]
     },
     "execution_count": 27,
     "metadata": {},
     "output_type": "execute_result"
    }
   ],
   "source": [
    "logmodel.predict([[3,754,7334,10]])"
   ]
  },
  {
   "cell_type": "code",
   "execution_count": 28,
   "id": "dbf6645e",
   "metadata": {},
   "outputs": [
    {
     "data": {
      "text/plain": [
       "['LogisticRegressionModel']"
      ]
     },
     "execution_count": 28,
     "metadata": {},
     "output_type": "execute_result"
    }
   ],
   "source": [
    "import joblib\n",
    "joblib.dump(logmodel,\"LogisticRegressionModel\")"
   ]
  },
  {
   "cell_type": "markdown",
   "id": "6c3cefaa",
   "metadata": {},
   "source": [
    "# Random Forest "
   ]
  },
  {
   "cell_type": "code",
   "execution_count": 29,
   "id": "0828e8d6",
   "metadata": {},
   "outputs": [
    {
     "data": {
      "text/plain": [
       "RandomForestClassifier(n_estimators=50)"
      ]
     },
     "execution_count": 29,
     "metadata": {},
     "output_type": "execute_result"
    }
   ],
   "source": [
    "from sklearn.ensemble import RandomForestClassifier\n",
    "randomforest=RandomForestClassifier(n_estimators=50)\n",
    "randomforest.fit(X_train, y_train)"
   ]
  },
  {
   "cell_type": "code",
   "execution_count": 30,
   "id": "e5e13f64",
   "metadata": {},
   "outputs": [
    {
     "data": {
      "text/plain": [
       "0.6763458820506232"
      ]
     },
     "execution_count": 30,
     "metadata": {},
     "output_type": "execute_result"
    }
   ],
   "source": [
    "randomforest.score(X_test,y_test)"
   ]
  },
  {
   "cell_type": "code",
   "execution_count": 31,
   "id": "c292942f",
   "metadata": {},
   "outputs": [
    {
     "data": {
      "text/plain": [
       "['RandomForest']"
      ]
     },
     "execution_count": 31,
     "metadata": {},
     "output_type": "execute_result"
    }
   ],
   "source": [
    "joblib.dump(randomforest,\"RandomForest\")"
   ]
  },
  {
   "cell_type": "markdown",
   "id": "b98db959",
   "metadata": {},
   "source": [
    "# Twitter API"
   ]
  },
  {
   "cell_type": "code",
   "execution_count": 32,
   "id": "c68ca805",
   "metadata": {},
   "outputs": [],
   "source": [
    "consumer_key = \"FcaKOYBDGUEEEqz7ufaWIy7mp\"\n",
    "consumer_secret = \"mihhCCjFXv2OHzAKzCvqllYNwmWfPtiztGESyTyt25O5KQx0TP\"\n",
    "access_token = \"900365880114204672-Fs61vYMorOBrJj5rgpCZskh6fKUUDbu\"\n",
    "access_token_secret = \"MS1NT8CNlS8I6sw2URGmhFKBAKjnEeTtMxiEYIXTFMXoQ\"\n",
    "\n",
    "b_token = \"AAAAAAAAAAAAAAAAAAAAAGHWbQEAAAAAsfoFlh%2BGoBLTM6ik6bzOZTIBLwA%3D7bx9qkU0oascnv0Lr77CretCKEk7qcZ6yIHusC52vlqXfRwg6q\""
   ]
  },
  {
   "cell_type": "code",
   "execution_count": 37,
   "id": "f06e5140",
   "metadata": {},
   "outputs": [
    {
     "ename": "AttributeError",
     "evalue": "'Client' object has no attribute 'get_users_likes'",
     "output_type": "error",
     "traceback": [
      "\u001b[1;31m---------------------------------------------------------------------------\u001b[0m",
      "\u001b[1;31mAttributeError\u001b[0m                            Traceback (most recent call last)",
      "\u001b[1;32m~\\AppData\\Local\\Temp/ipykernel_18052/1044188503.py\u001b[0m in \u001b[0;36m<module>\u001b[1;34m\u001b[0m\n\u001b[0;32m     26\u001b[0m \u001b[0mcount2\u001b[0m\u001b[1;33m\u001b[0m\u001b[1;33m\u001b[0m\u001b[0m\n\u001b[0;32m     27\u001b[0m \u001b[1;33m\u001b[0m\u001b[0m\n\u001b[1;32m---> 28\u001b[1;33m \u001b[0mlikes\u001b[0m \u001b[1;33m=\u001b[0m \u001b[0mclient\u001b[0m\u001b[1;33m.\u001b[0m\u001b[0mget_users_likes\u001b[0m\u001b[1;33m(\u001b[0m\u001b[0mid\u001b[0m\u001b[1;33m=\u001b[0m\u001b[0mid\u001b[0m\u001b[1;33m,\u001b[0m \u001b[0mmax_results\u001b[0m \u001b[1;33m=\u001b[0m \u001b[1;36m1000\u001b[0m\u001b[1;33m)\u001b[0m\u001b[1;33m\u001b[0m\u001b[1;33m\u001b[0m\u001b[0m\n\u001b[0m\u001b[0;32m     29\u001b[0m \u001b[0mcount3\u001b[0m \u001b[1;33m=\u001b[0m \u001b[1;36m0\u001b[0m\u001b[1;33m\u001b[0m\u001b[1;33m\u001b[0m\u001b[0m\n\u001b[0;32m     30\u001b[0m \u001b[1;32mfor\u001b[0m \u001b[0mfollow\u001b[0m \u001b[1;32min\u001b[0m \u001b[0mfollowing\u001b[0m\u001b[1;33m[\u001b[0m\u001b[1;36m0\u001b[0m\u001b[1;33m]\u001b[0m\u001b[1;33m:\u001b[0m\u001b[1;33m\u001b[0m\u001b[1;33m\u001b[0m\u001b[0m\n",
      "\u001b[1;31mAttributeError\u001b[0m: 'Client' object has no attribute 'get_users_likes'"
     ]
    }
   ],
   "source": [
    "\n",
    "import tweepy\n",
    "\n",
    "auth = tweepy.OAuthHandler(consumer_key, consumer_secret)\n",
    "auth.set_access_token(access_token,access_token_secret)\n",
    "api = tweepy.API(auth)\n",
    "\n",
    "#cursor = tweepy.Cursor(api.user_timeline, id='realDonaldTrump',tweet_mode='extended').items(1)\n",
    "client = tweepy.Client(bearer_token=b_token)\n",
    "\n",
    "username = '_washermashen_'\n",
    "res = client.get_users(usernames = username)\n",
    "id = res[0][0].id\n",
    "\n",
    "followers = client.get_users_followers(id=id, max_results = 1000)\n",
    "count1 = 0\n",
    "for follower in followers[0]:\n",
    "    count1 = count1 +1\n",
    "    \n",
    "count1\n",
    "\n",
    "following = client.get_users_following(id=id, max_results = 1000)\n",
    "count2 = 0\n",
    "for follow in following[0]:\n",
    "    count2 = count2 + 1\n",
    "    \n",
    "count2\n"
   ]
  },
  {
   "cell_type": "code",
   "execution_count": null,
   "id": "ac1d4a77",
   "metadata": {},
   "outputs": [],
   "source": [
    "tweets = client.get_users_tweets(id=id, max_results = 100)\n",
    "count3 = 0\n",
    "for tweet in tweets[0]:\n",
    "    count3 = count3 +1\n",
    "count3"
   ]
  },
  {
   "cell_type": "code",
   "execution_count": 40,
   "id": "58d22f54",
   "metadata": {},
   "outputs": [
    {
     "data": {
      "text/plain": [
       "[<Tweet id=1514352281407348741 text='Pep Guardiola has reached the Champions League semis for the ninth time, more than any manager in history. \\n\\nLevels 📈 https://t.co/dqdLs7maeb'>,\n",
       " <Tweet id=1514309930404175880 text='#ManCity will be in their third kit tonight vs Atletico Madrid. https://t.co/GTOuWmwUcE'>,\n",
       " <Tweet id=1513990959629012995 text='@VillarrealCF Damnnnn! Villareal had just one shot on target and it was on the 88th minute!😂'>,\n",
       " <Tweet id=1513989216484704256 text='Welcome to 𝗨𝗘𝗙𝗔 𝗙𝗔𝗥𝗠𝗘𝗥𝗦 𝗟𝗘𝗔𝗚𝗨𝗘 🏆.\\n\\n#UCL https://t.co/vgfymTlzn8'>,\n",
       " <Tweet id=1513894962139746305 text='@DrDisrespect Incredible gameplay'>,\n",
       " <Tweet id=1513884016235188234 text='13G/A and MOTM 8 times in 14 games since the start of the year is crazy. I’m pushing KDB for this Ballon D’or like a mad man if he wins the treble.'>,\n",
       " <Tweet id=1513530980744716290 text='just got killed by this kid on steam mw2 with twitch in his name and this is what i see https://t.co/yjYYOkj0Hy'>,\n",
       " <Tweet id=1513795201843798016 text='Kevin De Bruyne is in incredible form 🤩\\n \\nCan he lead Man City to Champions League success? 👀\\n\\n✍️ @jonnysmiffy'>,\n",
       " <Tweet id=1513806054374707208 text='@PauRivera33 @GoalNews @jonnysmiffy \"Never ever\".. why do people make such stupid predictions?'>,\n",
       " <Tweet id=1513717658788716544 text='@ar_burner @KSI It ain’t about if the shoe  looks good it’s about supporting another YouTuber that got his own shoe 💯'>,\n",
       " <Tweet id=1513918626268647428 text='@Vikkstar123 all my homies love vikstar'>,\n",
       " <Tweet id=1513916772218556420 text='Good weather, good vibes ☀️ https://t.co/JFgfyM8Qx1'>,\n",
       " <Tweet id=1513993719690706945 text='https://t.co/ASfUtYE2G4'>,\n",
       " <Tweet id=1513989312492326915 text='𝗦𝗺𝗮𝗹𝗹 𝗰𝗹𝘂𝗯.\\n\\n#UCL https://t.co/YZMNjCnr2Z'>,\n",
       " <Tweet id=1513915923916369925 text='I think we can all agree that this was the worst performance of a defender in a CL knockout game https://t.co/iWIjYODunB'>,\n",
       " <Tweet id=1513983293036843017 text='Another mickey mouse path to the final for Liverpool. Pain'>,\n",
       " <Tweet id=1513985342046720009 text='Villarreal are 7th place in La Liga and they’ve knocked out Bayern who’ve won Bundesliga 9 times in a row. It’s time for a conversation'>,\n",
       " <Tweet id=1513876814652968973 text='@mcfcyede Pogba https://t.co/J18CcS9iQQ'>,\n",
       " <Tweet id=1513551276054880260 text='Casemiro wants Real Madrid fans to treat Gareth Bale with more respect 😠 https://t.co/smWvf6tC9z'>,\n",
       " <Tweet id=1513869334619340800 text='And then there was 1🤍 https://t.co/S10RcPo0cY'>,\n",
       " <Tweet id=1513903625655013376 text='@skillsking10 Baller ✨ https://t.co/82x5tMtm3G'>,\n",
       " <Tweet id=1513906347808628751 text='@premierleague https://t.co/jhXXQMHDoF'>,\n",
       " <Tweet id=1513872904991219729 text='@Prerkey @fernandinho When u get a job'>,\n",
       " <Tweet id=1513871919812120577 text='My focus is 100% on winning all the titles we are playing for and I will only talk about my future at the end of the season. Let’s keep pushing! 💪🏾 https://t.co/MGVcf6VVz0'>,\n",
       " <Tweet id=1513873889239126030 text='@fernandinho @KawaiKayky 9 years and payed some of your own transfer fee to sign for us. We’re so grateful 💙'>,\n",
       " <Tweet id=1513871909414391813 text=\"I was 100% honest and spontaneous in answering that question at today's press conference. But anyone who knows me also knows that my greatest honesty is with Man City and my duties as team captain.\">,\n",
       " <Tweet id=1513852299285864449 text=\"🚨 Fernandinho announces he will leave Manchester City at the end of the season.\\n\\nHe’s not gonna sign a new contract: “I want to play. I will go back to Brazil, for sure. I've decided with my family, it's the most important for me”, Fernandinho said. 🔵🇧🇷 #MCFC https://t.co/UbQK0erSQ3\">,\n",
       " <Tweet id=1513517239164678155 text=\"Nemanja Vidic believes Ralf Rangnick should consider leaving Harry Maguire out for 'harder' matches 🤔 https://t.co/sI7gs619MW\">,\n",
       " <Tweet id=1513599855557492748 text='@Pogdiculous @goal @DeBruyneKev .'>,\n",
       " <Tweet id=1513599842207031298 text='@amitttrmfc @goal @DeBruyneKev -reps mid'>,\n",
       " <Tweet id=1513465323634233346 text=\"@DebatableFO De Ligt definitely isn't in that top tier anymore. Foden one higher\">,\n",
       " <Tweet id=1513587459254333448 text='😂🔵 @OfficialAitch keeping it real. https://t.co/cNdj4C1koi'>,\n",
       " <Tweet id=1513082908260503557 text='@fedegoatverde https://t.co/qkYukAUw99'>,\n",
       " <Tweet id=1513567866251055105 text='@FootyAccums Here for the “City ruining football” comments https://t.co/dhH3WURtoC'>,\n",
       " <Tweet id=1513582833490661376 text='Chelsea been sold. PSG being sold. Manchester City really won the oil club debate'>,\n",
       " <Tweet id=1513471931097530377 text='Aubameyang has almost scored as many goals as Arsenal since leaving the club 😯 https://t.co/6eq6PsOg99'>,\n",
       " <Tweet id=1513444622269304833 text='Here the replay of the “foul” on mane before Phil scored. This is why sky didn’t show it, cos it wasn’t a foul 🙄 https://t.co/eh3vQpRrXo'>,\n",
       " <Tweet id=1513458878633103370 text='mate https://t.co/EZGoR0xDSM'>,\n",
       " <Tweet id=1513409984859672578 text=\"Was Liverpool vs. Man City the highest level of Premier League football we've ever witnessed? 🤔 https://t.co/iyeeMEmAGd\">,\n",
       " <Tweet id=1513450754165678082 text='Good morning to Wolfsburg and Wolfsburg only for giving us the “60m reject” Kevin De Bruyne. Forever grateful'>,\n",
       " <Tweet id=1513396433117872129 text='Good morning, Blues! 🔝💙\\n\\nhttps://t.co/G4xIbtwt32'>,\n",
       " <Tweet id=1513208938795253763 text='thought pep was gonna go will smith mode for a quick second https://t.co/eMSnDgXQ52'>,\n",
       " <Tweet id=1513216296418103297 text='KDB vs Liverpools midfield today https://t.co/NTlkj2sFmU'>,\n",
       " <Tweet id=1513278445622640641 text='Ederson on Instagram. This man is not real, he’s a cyborg. https://t.co/YDnVherkmu'>,\n",
       " <Tweet id=1513185685569691648 text='Trent stripping 😭😭https://t.co/e0UUUZ1vZO'>,\n",
       " <Tweet id=1513230217850114048 text='@goal @ManCity @LFC @premierleague Anfield - Liverpool ahead twice, City came back twice. \\nEtihad - Man City went ahead twice, Liverpool came back twice. \\n\\nWhat a rivalry. The world is jealous.'>,\n",
       " <Tweet id=1513228984410152968 text='Football is very lucky to have these two 🧠 https://t.co/BhEikzvjeA'>,\n",
       " <Tweet id=1513214613940228104 text='Cheat to keep up with City FC https://t.co/wDX4Lm9MvO'>,\n",
       " <Tweet id=1513207287816589322 text='De Bruyne with an unbelievable performance. Such a shame that our attackers were so bad today'>,\n",
       " <Tweet id=1513206754296877058 text='.@DeBruyneKev is undoubtedly still the best midfielder in the world.'>,\n",
       " <Tweet id=1513193898981695491 text='City Vs Liverpool is the best in football, none of this El Clasico shit'>,\n",
       " <Tweet id=1513209450571923456 text='Another one 🌟\\n\\n#ManCity | @EASPORTSFIFA https://t.co/kWOlHbukTk'>,\n",
       " <Tweet id=1513210212098129920 text='\"Remember when United fans compared you with Wan Bissaka.\" https://t.co/17HhEUTkBu'>,\n",
       " <Tweet id=1513242690384797699 text='\"Kevin de Bruyne only has 3 assists this season!!!\" https://t.co/o878msVLS0'>,\n",
       " <Tweet id=1513209027366432775 text='criminal \\n\\n https://t.co/BKygEytdwj'>,\n",
       " <Tweet id=1513204530749583365 text='Toni Kroos gives his take on Messi v Ronaldo. https://t.co/AXLqtX57ER'>,\n",
       " <Tweet id=1513203022218039297 text='\"Did you watch the Man Utd game yesterday?\" https://t.co/D6F1m4QTRe'>,\n",
       " <Tweet id=1513206945372585989 text='What a fantastic match. Thanks to these two incredible teams. ⭐️ #MCFC #LFC https://t.co/AChjDjX47L'>,\n",
       " <Tweet id=1513205948596301832 text='Considering all our missed chances, this feels like a loss'>,\n",
       " <Tweet id=1513156966021058561 text='Man City fans greet the team bus #MCILIV https://t.co/kn8zDux3A9'>,\n",
       " <Tweet id=1513187416886190089 text='@JoeTaylor67 @Total_John_ @TheEuropeanLad Yes'>,\n",
       " <Tweet id=1513187163860615171 text='João Cancelo is an absolute nightmare for Liverpool.'>,\n",
       " <Tweet id=1513186906011541510 text='Cancelo schooled Trent there'>,\n",
       " <Tweet id=1513190133826265089 text='PFA POTY 3peat locked and loading. Cry about it https://t.co/tSKy8AT0dW'>,\n",
       " <Tweet id=1513189811191959565 text='Our fans wanted Gabriel Jesus sold you know. This guy shows up in nearly every big game possible, we don’t deserve him.'>,\n",
       " <Tweet id=1513187077168545792 text='Anyone still doubting the decision to start @gabrieljesus9? 🤙🇧🇷'>,\n",
       " <Tweet id=1513179233505452044 text='KEVIN DE BRUYNE GIVES CITY THE EARLY LEAD AGAINST LIVERPOOL 🌙 https://t.co/h8rqoP3VXu'>,\n",
       " <Tweet id=1513181222742151169 text='If we’re being real Liverpool vs Man City is the most entertaining game in the world now'>,\n",
       " <Tweet id=1513179019390377988 text='KEVIN DE BRUYNE IS THE MOST CLUTCH FOOTBALL PLAYER ON THE PLANET'>,\n",
       " <Tweet id=1513191411709009923 text='Ederson is insane. How can you show no emotion in this moment https://t.co/GaC95vcvm6'>,\n",
       " <Tweet id=1513189563354820616 text='This tackle by Laporte 👏 https://t.co/ZoOJcRJ9lv'>,\n",
       " <Tweet id=1513186728852561923 text='GABBBYYYYYYYY!!!! 🇧🇷🤙\\n\\n🔵 2-1 🔴 #ManCity https://t.co/xOmPu6B0A1'>,\n",
       " <Tweet id=1513188977880498179 text='The way Aymeric Laporte has silenced absolutely everyone is beautiful. Always knew he would'>,\n",
       " <Tweet id=1513183894903918599 text='EDERSON. Chill. Please.'>,\n",
       " <Tweet id=1513179070137262087 text='@UTDTrey Today I was at the Apple Store when I saw that a lot of phones were broken. When I looked around I saw none other than Pristiano Penaldo smashing all the phones. He said he was mad because he ghosted vs a relegation team. Shame on you Penaldo!'>,\n",
       " <Tweet id=1513178947177041926 text='KEVIN DE BRUYNE BEST MIDFIELDER IN THE WORLD'>,\n",
       " <Tweet id=1513188540531806208 text='AYMERIC LAPORTE. WHAT A TACKLE.'>,\n",
       " <Tweet id=1513181205189038092 text='Que partido estamos viendo  ! @ManCity 1 - 1 @LFC'>,\n",
       " <Tweet id=1513161420913152001 text='James McAtee and Romeo Lavia are both with the #ManCity squad vs Liverpool today. [via @_joebray]'>,\n",
       " <Tweet id=1513162482923315204 text='@ManCity @HaysTechnology JESUS AND FODEN START  https://t.co/wcli0mRsJq'>,\n",
       " <Tweet id=1513117065615638530 text='Me, Myself &amp; I https://t.co/9FSQAvPTJ5'>,\n",
       " <Tweet id=1513163042695094274 text='Jesus starts. Jesus scores. https://t.co/RknwWlzFTl'>,\n",
       " <Tweet id=1512891815430602753 text='somewhere on earth there’s still a mf with an iPhone 6'>,\n",
       " <Tweet id=1513155658576801797 text='Young Mario Balotelli was fearless 😤 https://t.co/YmQwK7qhaZ'>,\n",
       " <Tweet id=1513122267898814464 text='All these trailers being made and all this hype for this possible all timer City vs Liverpool game for it to end 0-0 would be too funny 😭'>,\n",
       " <Tweet id=1513042378034135040 text='CHARLES LECLERC WINS THE AUSTRALIAN GRAND PRIX! 🏆\\n\\nHe takes home his first-ever Grand Slam victory - pole, win and fastest lap!!! 🤩\\n\\n#AusGP #F1 @Charles_Leclerc https://t.co/3uSxV281VL'>,\n",
       " <Tweet id=1512892107689713673 text='Imagine going home and telling your parents Ronaldo smashed your phone😭😭'>,\n",
       " <Tweet id=1512890759112011778 text='Bloody hell \\nhttps://t.co/H2Mvtgu6pC'>,\n",
       " <Tweet id=1512967668562751489 text='@elonmusk one of the most ahead of its time dystopian movies ever made https://t.co/kv93s5D9nw'>,\n",
       " <Tweet id=1512944276983975936 text='Weather is fake. I seen Truman Show!'>,\n",
       " <Tweet id=1513049145266814977 text='Nothing but: 𝗡𝗢𝗜𝗦𝗘. 💥🤤 @aguerosergiokun \\n\\nhttps://t.co/UIx1tcOPoM'>,\n",
       " <Tweet id=1512729060580884483 text='@goal https://t.co/pRysgZgLi2'>,\n",
       " <Tweet id=1512728741373521920 text='Alphonso Davies on Harry Maguire 😶 https://t.co/FBaQPcVhOb'>,\n",
       " <Tweet id=1513034290245750789 text=\"10 years since *that* Aguero goal and City’s dramatic title win... \\n\\n'Drink It In: The Rise of Manchester City' follows the club’s roller-coaster journey, with exclusive interviews with Noel Gallagher, Roberto Mancini and more! 🏆\\n\\nWatch the full programme at 7.30pm tonight! 🍿 https://t.co/WYgzfHjvDB\">,\n",
       " <Tweet id=1513010155285188609 text=\"@leah_rm13 You're not even Madrid fan.\">,\n",
       " <Tweet id=1512851499499470849 text='Two jealous 👀 @Cristiano https://t.co/gmoJvquLsE'>,\n",
       " <Tweet id=1512907387052728325 text='Phil Foden: \"Being a #ManCity fan definitely helps. You know what the supporters want. Hopefully I can make them proud on Sunday. All they keep saying is ‘you better win, you better win!’. Hopefully we can get the job done...\"'>,\n",
       " <Tweet id=1513045109201276933 text='@David_Gill78 @premierleague @ManCity but the match is at etihad'>,\n",
       " <Tweet id=1512861492294692871 text='https://t.co/5H8ttBjwQP'>,\n",
       " <Tweet id=1513024046627430407 text=\"Mind rn -&gt;\\n\\nISA -&gt; Computer networks -&gt; Open textbook -&gt; [1 sec later] ooo Cloud seems interesting -&gt; Remember seeing O'Reilly's Cloud Native with Go -&gt; ooooooo IDK GO but lets check it out -&gt; oooooo DAMN LESGOOO GO IS COOOLLLLL LETS PLAY AROUND -&gt; oh shit ISA [go back to start]\">]"
      ]
     },
     "execution_count": 40,
     "metadata": {},
     "output_type": "execute_result"
    }
   ],
   "source": [
    "likes = client.get_liked_tweets(id=id, max_)\n",
    "\n",
    "for"
   ]
  },
  {
   "cell_type": "markdown",
   "id": "e689687b",
   "metadata": {},
   "source": [
    "# Gradient Boosting Regressor"
   ]
  },
  {
   "cell_type": "code",
   "execution_count": null,
   "id": "0fe1835b",
   "metadata": {},
   "outputs": [],
   "source": [
    "from sklearn.ensemble import GradientBoostingRegressor\n",
    "from sklearn.model_selection import train_test_split\n",
    "from sklearn.metrics import mean_squared_error\n",
    "from sklearn.datasets import load_boston\n",
    "from sklearn.metrics import mean_absolute_error"
   ]
  },
  {
   "cell_type": "code",
   "execution_count": null,
   "id": "c32cd8d7",
   "metadata": {},
   "outputs": [],
   "source": [
    "td = td.filter(['category', 'tweets', 'following', 'followers','likes'], axis = 1)\n",
    "td"
   ]
  },
  {
   "cell_type": "code",
   "execution_count": null,
   "id": "291d2bae",
   "metadata": {},
   "outputs": [],
   "source": [
    "td.dropna(subset = ['category'], inplace = True)\n",
    "X = td.drop(['category'], axis=1)\n",
    "y = td[\"category\"]\n",
    "y = y.astype('int')\n",
    "X_train, X_test, y_train, y_test = train_test_split(X,y,test_size=0.30,random_state=4)\n"
   ]
  },
  {
   "cell_type": "code",
   "execution_count": null,
   "id": "307a43d7",
   "metadata": {},
   "outputs": [],
   "source": [
    "regressor = GradientBoostingRegressor(\n",
    "        max_depth = 2,\n",
    "        n_estimators = 3,\n",
    "        learning_rate = 1.0\n",
    ")\n",
    "regressor.fit(X_train, y_train)"
   ]
  },
  {
   "cell_type": "code",
   "execution_count": null,
   "id": "f448f1fa",
   "metadata": {},
   "outputs": [],
   "source": [
    "errors = [mean_squared_error(y_test,y_pred) for y_pred in regressor.staged_predict(X_test)]\n",
    "best_n_estimators = np.argmin(errors)"
   ]
  },
  {
   "cell_type": "code",
   "execution_count": null,
   "id": "a076a18c",
   "metadata": {},
   "outputs": [],
   "source": [
    "best_regressor = GradientBoostingRegressor(\n",
    "        max_depth = 2,\n",
    "        n_estimators = 3,\n",
    "        learning_rate = 1.0\n",
    ")\n",
    "best_regressor.fit(X_train, y_train)"
   ]
  },
  {
   "cell_type": "code",
   "execution_count": null,
   "id": "09939330",
   "metadata": {},
   "outputs": [],
   "source": [
    "y_pred = best_regressor.predict(X_test)\n",
    "\n",
    "mean_absolute_error(y_test,y_pred)"
   ]
  },
  {
   "cell_type": "code",
   "execution_count": null,
   "id": "980259af",
   "metadata": {},
   "outputs": [],
   "source": [
    "corr_pred = 1-mean_absolute_error(y_test,y_pred)\n",
    "corr_pred"
   ]
  },
  {
   "cell_type": "code",
   "execution_count": null,
   "id": "db173e57",
   "metadata": {},
   "outputs": [],
   "source": [
    "joblib.dump(best_regressor,\"GradientTree\")"
   ]
  },
  {
   "cell_type": "markdown",
   "id": "555b2ebd",
   "metadata": {},
   "source": [
    "# Decision Tree"
   ]
  },
  {
   "cell_type": "code",
   "execution_count": null,
   "id": "2a7e98ec",
   "metadata": {},
   "outputs": [],
   "source": [
    "td2 = td.filter(['category', 'tweets', 'following', 'followers', 'likes'], axis = 1)\n",
    "y = td2['category']\n",
    "x = td2.drop(['category'], axis=1)\n",
    "y = y.astype('int')x_train, x_test, y_train, y_test = train_test_split(x, y, random_state = 101, stratify = y, test_size = 0.3)"
   ]
  },
  {
   "cell_type": "code",
   "execution_count": null,
   "id": "a95c631a",
   "metadata": {},
   "outputs": [],
   "source": [
    "x_train, x_test, y_train, y_test = train_test_split(x, y, random_state = 101, stratify = y, test_size = 0.3)"
   ]
  },
  {
   "cell_type": "code",
   "execution_count": null,
   "id": "80b810f7",
   "metadata": {},
   "outputs": [],
   "source": [
    "y_train.value_counts(normalize = True)"
   ]
  },
  {
   "cell_type": "code",
   "execution_count": null,
   "id": "17f1ea13",
   "metadata": {},
   "outputs": [],
   "source": [
    "from sklearn.tree import DecisionTreeClassifier\n",
    "from sklearn.tree import DecisionTreeRegressor"
   ]
  },
  {
   "cell_type": "code",
   "execution_count": null,
   "id": "7fcf2906",
   "metadata": {},
   "outputs": [],
   "source": [
    "dt_model = DecisionTreeClassifier(random_state = 10)\n",
    "dt_model.fit(x_train, y_train)"
   ]
  },
  {
   "cell_type": "code",
   "execution_count": null,
   "id": "bac49d45",
   "metadata": {},
   "outputs": [],
   "source": [
    "dt_model.score(x_test, y_test)"
   ]
  },
  {
   "cell_type": "code",
   "execution_count": null,
   "id": "d9c734e5",
   "metadata": {},
   "outputs": [],
   "source": [
    "train_acc = []\n",
    "test_acc = []\n",
    "# changing max depth \n",
    "for depth in range(1,10):\n",
    "  dt_model = DecisionTreeClassifier(max_depth = depth, random_state = 10)\n",
    "  dt_model.fit(x_train, y_train)\n",
    "  train_acc.append(dt_model.score(x_train, y_train))\n",
    "  test_acc.append(dt_model.score(x_test, y_test))"
   ]
  },
  {
   "cell_type": "code",
   "execution_count": null,
   "id": "1ef65659",
   "metadata": {},
   "outputs": [],
   "source": [
    "df = pd.DataFrame({'max_depth': range(1,10), 'train_acc': train_acc, 'test_acc': test_acc})\n",
    "dt_model = DecisionTreeClassifier(max_depth = 15, max_leaf_nodes = 25, random_state = 4)\n",
    "dt_model.fit(x_train, y_train)\n",
    "dt_model.score(x_train, y_train)"
   ]
  },
  {
   "cell_type": "markdown",
   "id": "a235b93a",
   "metadata": {},
   "source": [
    "# GUI"
   ]
  },
  {
   "cell_type": "code",
   "execution_count": null,
   "id": "5ac080b3",
   "metadata": {},
   "outputs": [],
   "source": [
    "from tkinter import *\n",
    "root=Tk()\n",
    "root.geometry('400x300')\n",
    "root['bg'] = '#000000'\n",
    "username=StringVar()\n",
    "L=Label(root,text=\"Bot Slayers\", height=3, background=\"#000000\",foreground=\"white\", font=(60))\n",
    "L.place(relx=0.5,rely=0.05, anchor=CENTER)\n",
    "L1=Label(root,text=\"Please enter username : \", height=2, width=30)\n",
    "L1.place(relx=0.5,rely=0.2, anchor=CENTER)\n",
    "e=Entry(textvariable=username)\n",
    "e.insert(0, 'Username')\n",
    "e.place(relx=0.5,rely=0.35, anchor=CENTER, height=20)\n",
    "def click():\n",
    "    print(\"Username : \",username.get())\n",
    "    \n",
    "    #Generating a random QR Code based on bill amount \n",
    "    root1=Tk()\n",
    "    root1.geometry('400x300')\n",
    "    root1['bg'] = '#000000'\n",
    "    data1=StringVar()\n",
    "    L11=Label(root1,text=\"Please enter username : \", height=2, width=30)\n",
    "    L11.place(relx=0.5,rely=0.6,anchor=CENTER)\n",
    "    \n",
    "\n",
    "    \n",
    "    auth = tweepy.OAuthHandler(consumer_key, consumer_secret)\n",
    "    auth.set_access_token(access_token,access_token_secret)\n",
    "    api = tweepy.API(auth)\n",
    "\n",
    "    client = tweepy.Client(bearer_token=b_token)\n",
    "\n",
    "    res = client.get_users(usernames = username.get())\n",
    "    id = res[0][0].id\n",
    "\n",
    "    followers = client.get_users_followers(id=id, max_results = 1000)\n",
    "    count1 = 0\n",
    "    for follower in followers[0]:\n",
    "        count1 = count1 +1\n",
    "\n",
    "    print(\"Followers : \",count1)\n",
    "\n",
    "    following = client.get_users_following(id=id, max_results = 1000)\n",
    "    count2 = 0\n",
    "    for follow in following[0]:\n",
    "        count2 = count2 + 1\n",
    "\n",
    "    print(\"Following : \",count2)\n",
    "\n",
    "    tweets = client.get_users_tweets(id=id, max_results = 100)\n",
    "    count3 = 0\n",
    "    for tweet in tweets[0]:\n",
    "        count3 = count3 +1\n",
    "    print(\"Tweets : \",count3)\n",
    "    \n",
    "    root1.mainloop()\n",
    "            \n",
    "e.bind(\"<Return>\", click)\n",
    "B1=Button(root,text=\"Enter\",command=click,bg=\"black\",fg=\"white\", height=2, width=30, background=\"#000000\",foreground=\"white\")\n",
    "B1.place(relx=0.5,rely=0.5, anchor=CENTER)\n",
    "root.mainloop()"
   ]
  },
  {
   "cell_type": "code",
   "execution_count": null,
   "id": "5be5378b",
   "metadata": {},
   "outputs": [],
   "source": [
    "dt_model.predict([[count3,count2,count1,12500]])"
   ]
  },
  {
   "cell_type": "code",
   "execution_count": null,
   "id": "e75bde36",
   "metadata": {},
   "outputs": [],
   "source": []
  },
  {
   "cell_type": "code",
   "execution_count": null,
   "id": "bf3f8b32",
   "metadata": {},
   "outputs": [],
   "source": []
  }
 ],
 "metadata": {
  "kernelspec": {
   "display_name": "Python 3 (ipykernel)",
   "language": "python",
   "name": "python3"
  },
  "language_info": {
   "codemirror_mode": {
    "name": "ipython",
    "version": 3
   },
   "file_extension": ".py",
   "mimetype": "text/x-python",
   "name": "python",
   "nbconvert_exporter": "python",
   "pygments_lexer": "ipython3",
   "version": "3.9.7"
  }
 },
 "nbformat": 4,
 "nbformat_minor": 5
}
